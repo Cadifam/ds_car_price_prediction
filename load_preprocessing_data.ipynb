{
 "cells": [
  {
   "cell_type": "markdown",
   "id": "f0614e80-c6c8-4109-9af4-3caaf8c2f11f",
   "metadata": {},
   "source": [
    "## Importing libraries"
   ]
  },
  {
   "cell_type": "code",
   "execution_count": 1,
   "id": "d60df8d5-a5e3-4daa-8346-afee0c8d7ba9",
   "metadata": {},
   "outputs": [],
   "source": [
    "## for loading and preprocessing \n",
    "import numpy as np\n",
    "import pandas as pd\n",
    "\n",
    "## firn data vusyakuzatuib\n",
    "import matplotlib.pyplot as plt\n",
    "import seaborn as sns\n",
    "\n",
    "## spliting dataset\n",
    "from sklearn.model_selection import train_test_split\n",
    "\n",
    "## Load regression model\n",
    "from sklearn.linear_model import LinearRegression"
   ]
  },
  {
   "cell_type": "markdown",
   "id": "e4b5bd69-96a1-4902-b63b-8e21e377caec",
   "metadata": {
    "jp-MarkdownHeadingCollapsed": true
   },
   "source": [
    "## Loading Data & Creating Copy"
   ]
  },
  {
   "cell_type": "code",
   "execution_count": 2,
   "id": "5b7e626f-d667-4285-acdc-e23a2c9e8390",
   "metadata": {},
   "outputs": [],
   "source": [
    "data = pd.read_csv(\"dataset/car_price_prediction.csv\")"
   ]
  },
  {
   "cell_type": "code",
   "execution_count": 3,
   "id": "0bb7c60a-6f3a-435f-bc2d-980a40f96ae9",
   "metadata": {},
   "outputs": [],
   "source": [
    "## Create a deep copy\n",
    "df = data.copy()"
   ]
  },
  {
   "cell_type": "markdown",
   "id": "2deaac59-8e64-41fc-848c-5f15ffdbda73",
   "metadata": {
    "jp-MarkdownHeadingCollapsed": true
   },
   "source": [
    "## Data Preview and Understanding"
   ]
  },
  {
   "cell_type": "code",
   "execution_count": 4,
   "id": "3c8f90d9-370a-48a2-8ebb-c47cd803da58",
   "metadata": {},
   "outputs": [
    {
     "data": {
      "text/html": [
       "<div>\n",
       "<style scoped>\n",
       "    .dataframe tbody tr th:only-of-type {\n",
       "        vertical-align: middle;\n",
       "    }\n",
       "\n",
       "    .dataframe tbody tr th {\n",
       "        vertical-align: top;\n",
       "    }\n",
       "\n",
       "    .dataframe thead th {\n",
       "        text-align: right;\n",
       "    }\n",
       "</style>\n",
       "<table border=\"1\" class=\"dataframe\">\n",
       "  <thead>\n",
       "    <tr style=\"text-align: right;\">\n",
       "      <th></th>\n",
       "      <th>ID</th>\n",
       "      <th>Price</th>\n",
       "      <th>Levy</th>\n",
       "      <th>Manufacturer</th>\n",
       "      <th>Model</th>\n",
       "      <th>Prod. year</th>\n",
       "      <th>Category</th>\n",
       "      <th>Leather interior</th>\n",
       "      <th>Fuel type</th>\n",
       "      <th>Engine volume</th>\n",
       "      <th>Mileage</th>\n",
       "      <th>Cylinders</th>\n",
       "      <th>Gear box type</th>\n",
       "      <th>Drive wheels</th>\n",
       "      <th>Doors</th>\n",
       "      <th>Wheel</th>\n",
       "      <th>Color</th>\n",
       "      <th>Airbags</th>\n",
       "    </tr>\n",
       "  </thead>\n",
       "  <tbody>\n",
       "    <tr>\n",
       "      <th>0</th>\n",
       "      <td>45654403</td>\n",
       "      <td>13328</td>\n",
       "      <td>1399</td>\n",
       "      <td>LEXUS</td>\n",
       "      <td>RX 450</td>\n",
       "      <td>2010</td>\n",
       "      <td>Jeep</td>\n",
       "      <td>Yes</td>\n",
       "      <td>Hybrid</td>\n",
       "      <td>3.5</td>\n",
       "      <td>186005 km</td>\n",
       "      <td>6.0</td>\n",
       "      <td>Automatic</td>\n",
       "      <td>4x4</td>\n",
       "      <td>04-May</td>\n",
       "      <td>Left wheel</td>\n",
       "      <td>Silver</td>\n",
       "      <td>12</td>\n",
       "    </tr>\n",
       "    <tr>\n",
       "      <th>1</th>\n",
       "      <td>44731507</td>\n",
       "      <td>16621</td>\n",
       "      <td>1018</td>\n",
       "      <td>CHEVROLET</td>\n",
       "      <td>Equinox</td>\n",
       "      <td>2011</td>\n",
       "      <td>Jeep</td>\n",
       "      <td>No</td>\n",
       "      <td>Petrol</td>\n",
       "      <td>3</td>\n",
       "      <td>192000 km</td>\n",
       "      <td>6.0</td>\n",
       "      <td>Tiptronic</td>\n",
       "      <td>4x4</td>\n",
       "      <td>04-May</td>\n",
       "      <td>Left wheel</td>\n",
       "      <td>Black</td>\n",
       "      <td>8</td>\n",
       "    </tr>\n",
       "    <tr>\n",
       "      <th>2</th>\n",
       "      <td>45774419</td>\n",
       "      <td>8467</td>\n",
       "      <td>-</td>\n",
       "      <td>HONDA</td>\n",
       "      <td>FIT</td>\n",
       "      <td>2006</td>\n",
       "      <td>Hatchback</td>\n",
       "      <td>No</td>\n",
       "      <td>Petrol</td>\n",
       "      <td>1.3</td>\n",
       "      <td>200000 km</td>\n",
       "      <td>4.0</td>\n",
       "      <td>Variator</td>\n",
       "      <td>Front</td>\n",
       "      <td>04-May</td>\n",
       "      <td>Right-hand drive</td>\n",
       "      <td>Black</td>\n",
       "      <td>2</td>\n",
       "    </tr>\n",
       "    <tr>\n",
       "      <th>3</th>\n",
       "      <td>45769185</td>\n",
       "      <td>3607</td>\n",
       "      <td>862</td>\n",
       "      <td>FORD</td>\n",
       "      <td>Escape</td>\n",
       "      <td>2011</td>\n",
       "      <td>Jeep</td>\n",
       "      <td>Yes</td>\n",
       "      <td>Hybrid</td>\n",
       "      <td>2.5</td>\n",
       "      <td>168966 km</td>\n",
       "      <td>4.0</td>\n",
       "      <td>Automatic</td>\n",
       "      <td>4x4</td>\n",
       "      <td>04-May</td>\n",
       "      <td>Left wheel</td>\n",
       "      <td>White</td>\n",
       "      <td>0</td>\n",
       "    </tr>\n",
       "    <tr>\n",
       "      <th>4</th>\n",
       "      <td>45809263</td>\n",
       "      <td>11726</td>\n",
       "      <td>446</td>\n",
       "      <td>HONDA</td>\n",
       "      <td>FIT</td>\n",
       "      <td>2014</td>\n",
       "      <td>Hatchback</td>\n",
       "      <td>Yes</td>\n",
       "      <td>Petrol</td>\n",
       "      <td>1.3</td>\n",
       "      <td>91901 km</td>\n",
       "      <td>4.0</td>\n",
       "      <td>Automatic</td>\n",
       "      <td>Front</td>\n",
       "      <td>04-May</td>\n",
       "      <td>Left wheel</td>\n",
       "      <td>Silver</td>\n",
       "      <td>4</td>\n",
       "    </tr>\n",
       "    <tr>\n",
       "      <th>...</th>\n",
       "      <td>...</td>\n",
       "      <td>...</td>\n",
       "      <td>...</td>\n",
       "      <td>...</td>\n",
       "      <td>...</td>\n",
       "      <td>...</td>\n",
       "      <td>...</td>\n",
       "      <td>...</td>\n",
       "      <td>...</td>\n",
       "      <td>...</td>\n",
       "      <td>...</td>\n",
       "      <td>...</td>\n",
       "      <td>...</td>\n",
       "      <td>...</td>\n",
       "      <td>...</td>\n",
       "      <td>...</td>\n",
       "      <td>...</td>\n",
       "      <td>...</td>\n",
       "    </tr>\n",
       "    <tr>\n",
       "      <th>19232</th>\n",
       "      <td>45798355</td>\n",
       "      <td>8467</td>\n",
       "      <td>-</td>\n",
       "      <td>MERCEDES-BENZ</td>\n",
       "      <td>CLK 200</td>\n",
       "      <td>1999</td>\n",
       "      <td>Coupe</td>\n",
       "      <td>Yes</td>\n",
       "      <td>CNG</td>\n",
       "      <td>2.0 Turbo</td>\n",
       "      <td>300000 km</td>\n",
       "      <td>4.0</td>\n",
       "      <td>Manual</td>\n",
       "      <td>Rear</td>\n",
       "      <td>02-Mar</td>\n",
       "      <td>Left wheel</td>\n",
       "      <td>Silver</td>\n",
       "      <td>5</td>\n",
       "    </tr>\n",
       "    <tr>\n",
       "      <th>19233</th>\n",
       "      <td>45778856</td>\n",
       "      <td>15681</td>\n",
       "      <td>831</td>\n",
       "      <td>HYUNDAI</td>\n",
       "      <td>Sonata</td>\n",
       "      <td>2011</td>\n",
       "      <td>Sedan</td>\n",
       "      <td>Yes</td>\n",
       "      <td>Petrol</td>\n",
       "      <td>2.4</td>\n",
       "      <td>161600 km</td>\n",
       "      <td>4.0</td>\n",
       "      <td>Tiptronic</td>\n",
       "      <td>Front</td>\n",
       "      <td>04-May</td>\n",
       "      <td>Left wheel</td>\n",
       "      <td>Red</td>\n",
       "      <td>8</td>\n",
       "    </tr>\n",
       "    <tr>\n",
       "      <th>19234</th>\n",
       "      <td>45804997</td>\n",
       "      <td>26108</td>\n",
       "      <td>836</td>\n",
       "      <td>HYUNDAI</td>\n",
       "      <td>Tucson</td>\n",
       "      <td>2010</td>\n",
       "      <td>Jeep</td>\n",
       "      <td>Yes</td>\n",
       "      <td>Diesel</td>\n",
       "      <td>2</td>\n",
       "      <td>116365 km</td>\n",
       "      <td>4.0</td>\n",
       "      <td>Automatic</td>\n",
       "      <td>Front</td>\n",
       "      <td>04-May</td>\n",
       "      <td>Left wheel</td>\n",
       "      <td>Grey</td>\n",
       "      <td>4</td>\n",
       "    </tr>\n",
       "    <tr>\n",
       "      <th>19235</th>\n",
       "      <td>45793526</td>\n",
       "      <td>5331</td>\n",
       "      <td>1288</td>\n",
       "      <td>CHEVROLET</td>\n",
       "      <td>Captiva</td>\n",
       "      <td>2007</td>\n",
       "      <td>Jeep</td>\n",
       "      <td>Yes</td>\n",
       "      <td>Diesel</td>\n",
       "      <td>2</td>\n",
       "      <td>51258 km</td>\n",
       "      <td>4.0</td>\n",
       "      <td>Automatic</td>\n",
       "      <td>Front</td>\n",
       "      <td>04-May</td>\n",
       "      <td>Left wheel</td>\n",
       "      <td>Black</td>\n",
       "      <td>4</td>\n",
       "    </tr>\n",
       "    <tr>\n",
       "      <th>19236</th>\n",
       "      <td>45813273</td>\n",
       "      <td>470</td>\n",
       "      <td>753</td>\n",
       "      <td>HYUNDAI</td>\n",
       "      <td>Sonata</td>\n",
       "      <td>2012</td>\n",
       "      <td>Sedan</td>\n",
       "      <td>Yes</td>\n",
       "      <td>Hybrid</td>\n",
       "      <td>2.4</td>\n",
       "      <td>186923 km</td>\n",
       "      <td>4.0</td>\n",
       "      <td>Automatic</td>\n",
       "      <td>Front</td>\n",
       "      <td>04-May</td>\n",
       "      <td>Left wheel</td>\n",
       "      <td>White</td>\n",
       "      <td>12</td>\n",
       "    </tr>\n",
       "  </tbody>\n",
       "</table>\n",
       "<p>19237 rows × 18 columns</p>\n",
       "</div>"
      ],
      "text/plain": [
       "             ID  Price  Levy   Manufacturer    Model  Prod. year   Category  \\\n",
       "0      45654403  13328  1399          LEXUS   RX 450        2010       Jeep   \n",
       "1      44731507  16621  1018      CHEVROLET  Equinox        2011       Jeep   \n",
       "2      45774419   8467     -          HONDA      FIT        2006  Hatchback   \n",
       "3      45769185   3607   862           FORD   Escape        2011       Jeep   \n",
       "4      45809263  11726   446          HONDA      FIT        2014  Hatchback   \n",
       "...         ...    ...   ...            ...      ...         ...        ...   \n",
       "19232  45798355   8467     -  MERCEDES-BENZ  CLK 200        1999      Coupe   \n",
       "19233  45778856  15681   831        HYUNDAI   Sonata        2011      Sedan   \n",
       "19234  45804997  26108   836        HYUNDAI   Tucson        2010       Jeep   \n",
       "19235  45793526   5331  1288      CHEVROLET  Captiva        2007       Jeep   \n",
       "19236  45813273    470   753        HYUNDAI   Sonata        2012      Sedan   \n",
       "\n",
       "      Leather interior Fuel type Engine volume    Mileage  Cylinders  \\\n",
       "0                  Yes    Hybrid           3.5  186005 km        6.0   \n",
       "1                   No    Petrol             3  192000 km        6.0   \n",
       "2                   No    Petrol           1.3  200000 km        4.0   \n",
       "3                  Yes    Hybrid           2.5  168966 km        4.0   \n",
       "4                  Yes    Petrol           1.3   91901 km        4.0   \n",
       "...                ...       ...           ...        ...        ...   \n",
       "19232              Yes       CNG     2.0 Turbo  300000 km        4.0   \n",
       "19233              Yes    Petrol           2.4  161600 km        4.0   \n",
       "19234              Yes    Diesel             2  116365 km        4.0   \n",
       "19235              Yes    Diesel             2   51258 km        4.0   \n",
       "19236              Yes    Hybrid           2.4  186923 km        4.0   \n",
       "\n",
       "      Gear box type Drive wheels   Doors             Wheel   Color  Airbags  \n",
       "0         Automatic          4x4  04-May        Left wheel  Silver       12  \n",
       "1         Tiptronic          4x4  04-May        Left wheel   Black        8  \n",
       "2          Variator        Front  04-May  Right-hand drive   Black        2  \n",
       "3         Automatic          4x4  04-May        Left wheel   White        0  \n",
       "4         Automatic        Front  04-May        Left wheel  Silver        4  \n",
       "...             ...          ...     ...               ...     ...      ...  \n",
       "19232        Manual         Rear  02-Mar        Left wheel  Silver        5  \n",
       "19233     Tiptronic        Front  04-May        Left wheel     Red        8  \n",
       "19234     Automatic        Front  04-May        Left wheel    Grey        4  \n",
       "19235     Automatic        Front  04-May        Left wheel   Black        4  \n",
       "19236     Automatic        Front  04-May        Left wheel   White       12  \n",
       "\n",
       "[19237 rows x 18 columns]"
      ]
     },
     "execution_count": 4,
     "metadata": {},
     "output_type": "execute_result"
    }
   ],
   "source": [
    "df"
   ]
  },
  {
   "cell_type": "code",
   "execution_count": 5,
   "id": "31e4c78f-ccf4-46cf-a913-c0dc21b1f927",
   "metadata": {},
   "outputs": [
    {
     "data": {
      "text/html": [
       "<div>\n",
       "<style scoped>\n",
       "    .dataframe tbody tr th:only-of-type {\n",
       "        vertical-align: middle;\n",
       "    }\n",
       "\n",
       "    .dataframe tbody tr th {\n",
       "        vertical-align: top;\n",
       "    }\n",
       "\n",
       "    .dataframe thead th {\n",
       "        text-align: right;\n",
       "    }\n",
       "</style>\n",
       "<table border=\"1\" class=\"dataframe\">\n",
       "  <thead>\n",
       "    <tr style=\"text-align: right;\">\n",
       "      <th></th>\n",
       "      <th>ID</th>\n",
       "      <th>Price</th>\n",
       "      <th>Levy</th>\n",
       "      <th>Manufacturer</th>\n",
       "      <th>Model</th>\n",
       "      <th>Prod. year</th>\n",
       "      <th>Category</th>\n",
       "      <th>Leather interior</th>\n",
       "      <th>Fuel type</th>\n",
       "      <th>Engine volume</th>\n",
       "      <th>Mileage</th>\n",
       "      <th>Cylinders</th>\n",
       "      <th>Gear box type</th>\n",
       "      <th>Drive wheels</th>\n",
       "      <th>Doors</th>\n",
       "      <th>Wheel</th>\n",
       "      <th>Color</th>\n",
       "      <th>Airbags</th>\n",
       "    </tr>\n",
       "  </thead>\n",
       "  <tbody>\n",
       "    <tr>\n",
       "      <th>0</th>\n",
       "      <td>45654403</td>\n",
       "      <td>13328</td>\n",
       "      <td>1399</td>\n",
       "      <td>LEXUS</td>\n",
       "      <td>RX 450</td>\n",
       "      <td>2010</td>\n",
       "      <td>Jeep</td>\n",
       "      <td>Yes</td>\n",
       "      <td>Hybrid</td>\n",
       "      <td>3.5</td>\n",
       "      <td>186005 km</td>\n",
       "      <td>6.0</td>\n",
       "      <td>Automatic</td>\n",
       "      <td>4x4</td>\n",
       "      <td>04-May</td>\n",
       "      <td>Left wheel</td>\n",
       "      <td>Silver</td>\n",
       "      <td>12</td>\n",
       "    </tr>\n",
       "    <tr>\n",
       "      <th>1</th>\n",
       "      <td>44731507</td>\n",
       "      <td>16621</td>\n",
       "      <td>1018</td>\n",
       "      <td>CHEVROLET</td>\n",
       "      <td>Equinox</td>\n",
       "      <td>2011</td>\n",
       "      <td>Jeep</td>\n",
       "      <td>No</td>\n",
       "      <td>Petrol</td>\n",
       "      <td>3</td>\n",
       "      <td>192000 km</td>\n",
       "      <td>6.0</td>\n",
       "      <td>Tiptronic</td>\n",
       "      <td>4x4</td>\n",
       "      <td>04-May</td>\n",
       "      <td>Left wheel</td>\n",
       "      <td>Black</td>\n",
       "      <td>8</td>\n",
       "    </tr>\n",
       "    <tr>\n",
       "      <th>2</th>\n",
       "      <td>45774419</td>\n",
       "      <td>8467</td>\n",
       "      <td>-</td>\n",
       "      <td>HONDA</td>\n",
       "      <td>FIT</td>\n",
       "      <td>2006</td>\n",
       "      <td>Hatchback</td>\n",
       "      <td>No</td>\n",
       "      <td>Petrol</td>\n",
       "      <td>1.3</td>\n",
       "      <td>200000 km</td>\n",
       "      <td>4.0</td>\n",
       "      <td>Variator</td>\n",
       "      <td>Front</td>\n",
       "      <td>04-May</td>\n",
       "      <td>Right-hand drive</td>\n",
       "      <td>Black</td>\n",
       "      <td>2</td>\n",
       "    </tr>\n",
       "    <tr>\n",
       "      <th>3</th>\n",
       "      <td>45769185</td>\n",
       "      <td>3607</td>\n",
       "      <td>862</td>\n",
       "      <td>FORD</td>\n",
       "      <td>Escape</td>\n",
       "      <td>2011</td>\n",
       "      <td>Jeep</td>\n",
       "      <td>Yes</td>\n",
       "      <td>Hybrid</td>\n",
       "      <td>2.5</td>\n",
       "      <td>168966 km</td>\n",
       "      <td>4.0</td>\n",
       "      <td>Automatic</td>\n",
       "      <td>4x4</td>\n",
       "      <td>04-May</td>\n",
       "      <td>Left wheel</td>\n",
       "      <td>White</td>\n",
       "      <td>0</td>\n",
       "    </tr>\n",
       "    <tr>\n",
       "      <th>4</th>\n",
       "      <td>45809263</td>\n",
       "      <td>11726</td>\n",
       "      <td>446</td>\n",
       "      <td>HONDA</td>\n",
       "      <td>FIT</td>\n",
       "      <td>2014</td>\n",
       "      <td>Hatchback</td>\n",
       "      <td>Yes</td>\n",
       "      <td>Petrol</td>\n",
       "      <td>1.3</td>\n",
       "      <td>91901 km</td>\n",
       "      <td>4.0</td>\n",
       "      <td>Automatic</td>\n",
       "      <td>Front</td>\n",
       "      <td>04-May</td>\n",
       "      <td>Left wheel</td>\n",
       "      <td>Silver</td>\n",
       "      <td>4</td>\n",
       "    </tr>\n",
       "  </tbody>\n",
       "</table>\n",
       "</div>"
      ],
      "text/plain": [
       "         ID  Price  Levy Manufacturer    Model  Prod. year   Category  \\\n",
       "0  45654403  13328  1399        LEXUS   RX 450        2010       Jeep   \n",
       "1  44731507  16621  1018    CHEVROLET  Equinox        2011       Jeep   \n",
       "2  45774419   8467     -        HONDA      FIT        2006  Hatchback   \n",
       "3  45769185   3607   862         FORD   Escape        2011       Jeep   \n",
       "4  45809263  11726   446        HONDA      FIT        2014  Hatchback   \n",
       "\n",
       "  Leather interior Fuel type Engine volume    Mileage  Cylinders  \\\n",
       "0              Yes    Hybrid           3.5  186005 km        6.0   \n",
       "1               No    Petrol             3  192000 km        6.0   \n",
       "2               No    Petrol           1.3  200000 km        4.0   \n",
       "3              Yes    Hybrid           2.5  168966 km        4.0   \n",
       "4              Yes    Petrol           1.3   91901 km        4.0   \n",
       "\n",
       "  Gear box type Drive wheels   Doors             Wheel   Color  Airbags  \n",
       "0     Automatic          4x4  04-May        Left wheel  Silver       12  \n",
       "1     Tiptronic          4x4  04-May        Left wheel   Black        8  \n",
       "2      Variator        Front  04-May  Right-hand drive   Black        2  \n",
       "3     Automatic          4x4  04-May        Left wheel   White        0  \n",
       "4     Automatic        Front  04-May        Left wheel  Silver        4  "
      ]
     },
     "execution_count": 5,
     "metadata": {},
     "output_type": "execute_result"
    }
   ],
   "source": [
    "## view the first rows\n",
    "df.head()"
   ]
  },
  {
   "cell_type": "code",
   "execution_count": 6,
   "id": "4d72daa0-4085-43c5-8147-ee34832c06af",
   "metadata": {},
   "outputs": [
    {
     "name": "stdout",
     "output_type": "stream",
     "text": [
      "Total number of rows:19237 -> Total number of columns: 18\n"
     ]
    }
   ],
   "source": [
    "## check the number of rows and columns\n",
    "print(f'Total number of rows:{df.shape[0]} -> Total number of columns: {df.shape[1]}')"
   ]
  },
  {
   "cell_type": "code",
   "execution_count": 7,
   "id": "35054d2b-0cff-43f5-88c8-8e277036475a",
   "metadata": {},
   "outputs": [
    {
     "data": {
      "text/plain": [
       "ID                    int64\n",
       "Price                 int64\n",
       "Levy                 object\n",
       "Manufacturer         object\n",
       "Model                object\n",
       "Prod. year            int64\n",
       "Category             object\n",
       "Leather interior     object\n",
       "Fuel type            object\n",
       "Engine volume        object\n",
       "Mileage              object\n",
       "Cylinders           float64\n",
       "Gear box type        object\n",
       "Drive wheels         object\n",
       "Doors                object\n",
       "Wheel                object\n",
       "Color                object\n",
       "Airbags               int64\n",
       "dtype: object"
      ]
     },
     "execution_count": 7,
     "metadata": {},
     "output_type": "execute_result"
    }
   ],
   "source": [
    "## checking type on columns\n",
    "df.dtypes"
   ]
  },
  {
   "cell_type": "code",
   "execution_count": 8,
   "id": "b4e5490b-020c-4ac2-a38f-f8ca25a0d086",
   "metadata": {},
   "outputs": [
    {
     "name": "stdout",
     "output_type": "stream",
     "text": [
      "<class 'pandas.core.frame.DataFrame'>\n",
      "RangeIndex: 19237 entries, 0 to 19236\n",
      "Data columns (total 18 columns):\n",
      " #   Column            Non-Null Count  Dtype  \n",
      "---  ------            --------------  -----  \n",
      " 0   ID                19237 non-null  int64  \n",
      " 1   Price             19237 non-null  int64  \n",
      " 2   Levy              19237 non-null  object \n",
      " 3   Manufacturer      19237 non-null  object \n",
      " 4   Model             19237 non-null  object \n",
      " 5   Prod. year        19237 non-null  int64  \n",
      " 6   Category          19237 non-null  object \n",
      " 7   Leather interior  19237 non-null  object \n",
      " 8   Fuel type         19237 non-null  object \n",
      " 9   Engine volume     19237 non-null  object \n",
      " 10  Mileage           19237 non-null  object \n",
      " 11  Cylinders         19237 non-null  float64\n",
      " 12  Gear box type     19237 non-null  object \n",
      " 13  Drive wheels      19237 non-null  object \n",
      " 14  Doors             19237 non-null  object \n",
      " 15  Wheel             19237 non-null  object \n",
      " 16  Color             19237 non-null  object \n",
      " 17  Airbags           19237 non-null  int64  \n",
      "dtypes: float64(1), int64(4), object(13)\n",
      "memory usage: 2.6+ MB\n"
     ]
    }
   ],
   "source": [
    "## get a summary description of the data\n",
    "df.info()"
   ]
  },
  {
   "cell_type": "code",
   "execution_count": 9,
   "id": "439de747-b3a6-4aad-8cff-255a6b1249e9",
   "metadata": {},
   "outputs": [
    {
     "data": {
      "text/plain": [
       "ID                  0\n",
       "Price               0\n",
       "Levy                0\n",
       "Manufacturer        0\n",
       "Model               0\n",
       "Prod. year          0\n",
       "Category            0\n",
       "Leather interior    0\n",
       "Fuel type           0\n",
       "Engine volume       0\n",
       "Mileage             0\n",
       "Cylinders           0\n",
       "Gear box type       0\n",
       "Drive wheels        0\n",
       "Doors               0\n",
       "Wheel               0\n",
       "Color               0\n",
       "Airbags             0\n",
       "dtype: int64"
      ]
     },
     "execution_count": 9,
     "metadata": {},
     "output_type": "execute_result"
    }
   ],
   "source": [
    "## checking for missing values\n",
    "df.isnull().sum()"
   ]
  },
  {
   "cell_type": "code",
   "execution_count": 10,
   "id": "47d74153-a266-4b2b-897e-a216af85e62f",
   "metadata": {},
   "outputs": [
    {
     "data": {
      "text/plain": [
       "313"
      ]
     },
     "execution_count": 10,
     "metadata": {},
     "output_type": "execute_result"
    }
   ],
   "source": [
    "## checking for duplicated values\n",
    "df.duplicated().sum()"
   ]
  },
  {
   "cell_type": "code",
   "execution_count": 11,
   "id": "c7ac4a28-f667-41e8-aa49-8ce5314a051f",
   "metadata": {},
   "outputs": [
    {
     "name": "stdout",
     "output_type": "stream",
     "text": [
      "['09-Mar' '100' '100 NX' ... 'macan S' 'tC' 'xD']\n"
     ]
    }
   ],
   "source": [
    "print(np.unique(df['Model']))"
   ]
  },
  {
   "cell_type": "code",
   "execution_count": 12,
   "id": "b01ecbfb-9514-4dcf-b1b1-16260a84f8f0",
   "metadata": {},
   "outputs": [
    {
     "name": "stdout",
     "output_type": "stream",
     "text": [
      "[1939 1943 1947 1953 1957 1964 1965 1968 1973 1974 1976 1977 1978 1980\n",
      " 1981 1982 1983 1984 1985 1986 1987 1988 1989 1990 1991 1992 1993 1994\n",
      " 1995 1996 1997 1998 1999 2000 2001 2002 2003 2004 2005 2006 2007 2008\n",
      " 2009 2010 2011 2012 2013 2014 2015 2016 2017 2018 2019 2020]\n"
     ]
    }
   ],
   "source": [
    "print(np.unique(df['Prod. year']))"
   ]
  },
  {
   "cell_type": "code",
   "execution_count": 13,
   "id": "3b200b4e-e52c-47a2-8291-4bbaa9987207",
   "metadata": {},
   "outputs": [
    {
     "name": "stdout",
     "output_type": "stream",
     "text": [
      "['Cabriolet' 'Coupe' 'Goods wagon' 'Hatchback' 'Jeep' 'Limousine'\n",
      " 'Microbus' 'Minivan' 'Pickup' 'Sedan' 'Universal']\n"
     ]
    }
   ],
   "source": [
    "print(np.unique(df['Category']))"
   ]
  },
  {
   "cell_type": "code",
   "execution_count": 14,
   "id": "5bedb6c1-88f4-4323-aa69-f23c517e2878",
   "metadata": {},
   "outputs": [
    {
     "name": "stdout",
     "output_type": "stream",
     "text": [
      "['No' 'Yes']\n"
     ]
    }
   ],
   "source": [
    "print(np.unique(df['Leather interior']))"
   ]
  },
  {
   "cell_type": "code",
   "execution_count": 15,
   "id": "ef8669b8-14eb-4a9e-a7ea-262d26822940",
   "metadata": {},
   "outputs": [
    {
     "name": "stdout",
     "output_type": "stream",
     "text": [
      "['CNG' 'Diesel' 'Hybrid' 'Hydrogen' 'LPG' 'Petrol' 'Plug-in Hybrid']\n"
     ]
    }
   ],
   "source": [
    "print(np.unique(df['Fuel type']))"
   ]
  },
  {
   "cell_type": "code",
   "execution_count": 16,
   "id": "0d0a505d-0187-4669-a1a5-51e40ba633b9",
   "metadata": {},
   "outputs": [
    {
     "name": "stdout",
     "output_type": "stream",
     "text": [
      "['0' '0.1' '0.2' '0.2 Turbo' '0.3' '0.3 Turbo' '0.4' '0.4 Turbo' '0.5'\n",
      " '0.6' '0.6 Turbo' '0.7' '0.7 Turbo' '0.8' '0.8 Turbo' '0.9' '1'\n",
      " '1.0 Turbo' '1.1' '1.1 Turbo' '1.2' '1.2 Turbo' '1.3' '1.3 Turbo' '1.4'\n",
      " '1.4 Turbo' '1.5' '1.5 Turbo' '1.6' '1.6 Turbo' '1.7' '1.7 Turbo' '1.8'\n",
      " '1.8 Turbo' '1.9' '1.9 Turbo' '2' '2.0 Turbo' '2.1' '2.1 Turbo' '2.2'\n",
      " '2.2 Turbo' '2.3' '2.3 Turbo' '2.4' '2.4 Turbo' '2.5' '2.5 Turbo' '2.6'\n",
      " '2.7' '2.7 Turbo' '2.8' '2.8 Turbo' '2.9' '2.9 Turbo' '20' '3'\n",
      " '3.0 Turbo' '3.1' '3.2' '3.2 Turbo' '3.3' '3.4' '3.5' '3.5 Turbo' '3.6'\n",
      " '3.6 Turbo' '3.7' '3.7 Turbo' '3.8' '3.9' '4' '4.0 Turbo' '4.2'\n",
      " '4.2 Turbo' '4.3' '4.4' '4.4 Turbo' '4.5' '4.5 Turbo' '4.6' '4.6 Turbo'\n",
      " '4.7' '4.7 Turbo' '4.8' '4.8 Turbo' '5' '5.0 Turbo' '5.2' '5.3' '5.4'\n",
      " '5.4 Turbo' '5.5' '5.5 Turbo' '5.6' '5.7' '5.7 Turbo' '5.8' '5.9' '6'\n",
      " '6.2' '6.3' '6.3 Turbo' '6.4' '6.7' '6.8' '7.3']\n"
     ]
    }
   ],
   "source": [
    "print(np.unique(df['Engine volume']))"
   ]
  },
  {
   "cell_type": "code",
   "execution_count": 17,
   "id": "da2af834-58d6-4a1a-a100-1504e1fbdc1a",
   "metadata": {},
   "outputs": [
    {
     "name": "stdout",
     "output_type": "stream",
     "text": [
      "['0 km' '1000 km' '10000 km' ... '99999 km' '999999 km' '999999999 km']\n"
     ]
    }
   ],
   "source": [
    "print(np.unique(df['Mileage']))"
   ]
  },
  {
   "cell_type": "code",
   "execution_count": 18,
   "id": "ee21c4f2-751f-4b41-9aee-1534e31e0dce",
   "metadata": {},
   "outputs": [
    {
     "name": "stdout",
     "output_type": "stream",
     "text": [
      "[ 1.  2.  3.  4.  5.  6.  7.  8.  9. 10. 12. 14. 16.]\n"
     ]
    }
   ],
   "source": [
    "print(np.unique(df['Cylinders']))"
   ]
  },
  {
   "cell_type": "code",
   "execution_count": 19,
   "id": "5e47d935-e1e9-4159-9a16-90cb8baff510",
   "metadata": {},
   "outputs": [
    {
     "name": "stdout",
     "output_type": "stream",
     "text": [
      "['Automatic' 'Manual' 'Tiptronic' 'Variator']\n"
     ]
    }
   ],
   "source": [
    "print(np.unique(df['Gear box type']))"
   ]
  },
  {
   "cell_type": "code",
   "execution_count": 20,
   "id": "7e059a1b-674d-48e9-ad64-43c49ca594a3",
   "metadata": {},
   "outputs": [
    {
     "name": "stdout",
     "output_type": "stream",
     "text": [
      "['4x4' 'Front' 'Rear']\n"
     ]
    }
   ],
   "source": [
    "print(np.unique(df['Drive wheels']))"
   ]
  },
  {
   "cell_type": "code",
   "execution_count": 21,
   "id": "dddf13de-ed4d-418f-b5e8-db0314bd0871",
   "metadata": {},
   "outputs": [
    {
     "name": "stdout",
     "output_type": "stream",
     "text": [
      "['02-Mar' '04-May' '>5']\n"
     ]
    }
   ],
   "source": [
    "print(np.unique(df['Doors']))"
   ]
  },
  {
   "cell_type": "code",
   "execution_count": 22,
   "id": "f0aa8062-473b-4a0a-a643-7b833c97181c",
   "metadata": {},
   "outputs": [
    {
     "name": "stdout",
     "output_type": "stream",
     "text": [
      "['Left wheel' 'Right-hand drive']\n"
     ]
    }
   ],
   "source": [
    "print(np.unique(df['Wheel']))"
   ]
  },
  {
   "cell_type": "code",
   "execution_count": 23,
   "id": "dc65daaa-b70b-414c-adae-457558d23fa4",
   "metadata": {},
   "outputs": [
    {
     "name": "stdout",
     "output_type": "stream",
     "text": [
      "['Beige' 'Black' 'Blue' 'Brown' 'Carnelian red' 'Golden' 'Green' 'Grey'\n",
      " 'Orange' 'Pink' 'Purple' 'Red' 'Silver' 'Sky blue' 'White' 'Yellow']\n"
     ]
    }
   ],
   "source": [
    "print(np.unique(df['Color']))"
   ]
  },
  {
   "cell_type": "code",
   "execution_count": 24,
   "id": "72404faa-ba01-4082-821a-249f5a8fbc97",
   "metadata": {},
   "outputs": [
    {
     "name": "stdout",
     "output_type": "stream",
     "text": [
      "[ 0  1  2  3  4  5  6  7  8  9 10 11 12 13 14 15 16]\n"
     ]
    }
   ],
   "source": [
    "print(np.unique(df['Airbags']))"
   ]
  },
  {
   "cell_type": "code",
   "execution_count": 25,
   "id": "e32ba204-76a0-4823-9251-3116e024dc1f",
   "metadata": {},
   "outputs": [
    {
     "name": "stdout",
     "output_type": "stream",
     "text": [
      "[       1        3        6 ...   627220   872946 26307500]\n"
     ]
    }
   ],
   "source": [
    "print(np.unique(df['Price']))"
   ]
  },
  {
   "cell_type": "code",
   "execution_count": 26,
   "id": "4ee11c63-9d7f-4f7a-b92c-339e6ff84e16",
   "metadata": {},
   "outputs": [
    {
     "name": "stdout",
     "output_type": "stream",
     "text": [
      "['ACURA' 'ALFA ROMEO' 'ASTON MARTIN' 'AUDI' 'BENTLEY' 'BMW' 'BUICK'\n",
      " 'CADILLAC' 'CHEVROLET' 'CHRYSLER' 'CITROEN' 'DAEWOO' 'DAIHATSU' 'DODGE'\n",
      " 'FERRARI' 'FIAT' 'FORD' 'GAZ' 'GMC' 'GREATWALL' 'HAVAL' 'HONDA' 'HUMMER'\n",
      " 'HYUNDAI' 'INFINITI' 'ISUZU' 'JAGUAR' 'JEEP' 'KIA' 'LAMBORGHINI' 'LANCIA'\n",
      " 'LAND ROVER' 'LEXUS' 'LINCOLN' 'MASERATI' 'MAZDA' 'MERCEDES-BENZ'\n",
      " 'MERCURY' 'MINI' 'MITSUBISHI' 'MOSKVICH' 'NISSAN' 'OPEL' 'PEUGEOT'\n",
      " 'PONTIAC' 'PORSCHE' 'RENAULT' 'ROLLS-ROYCE' 'ROVER' 'SAAB' 'SATURN'\n",
      " 'SCION' 'SEAT' 'SKODA' 'SSANGYONG' 'SUBARU' 'SUZUKI' 'TESLA' 'TOYOTA'\n",
      " 'UAZ' 'VAZ' 'VOLKSWAGEN' 'VOLVO' 'ZAZ' 'სხვა']\n"
     ]
    }
   ],
   "source": [
    "print(np.unique(df['Manufacturer']))"
   ]
  },
  {
   "cell_type": "code",
   "execution_count": 27,
   "id": "878c2f95-74c8-4aa4-baee-14527818ac2a",
   "metadata": {},
   "outputs": [
    {
     "name": "stdout",
     "output_type": "stream",
     "text": [
      "['-' '1011' '1016' '1017' '1018' '1024' '1028' '1030' '1031' '1032' '1036'\n",
      " '1039' '1045' '1047' '1051' '1053' '1054' '1055' '1058' '1062' '1064'\n",
      " '1076' '1077' '1079' '1080' '1083' '1086' '1090' '1091' '1094' '1095'\n",
      " '1099' '1103' '1104' '1107' '1108' '1109' '1110' '1111' '1113' '1118'\n",
      " '1132' '1138' '1141' '1148' '115' '1156' '1163' '11706' '1171' '11714'\n",
      " '1172' '1174' '1176' '1178' '1185' '1187' '1190' '1194' '1195' '1197'\n",
      " '1198' '1202' '1203' '1205' '1211' '1228' '1234' '1236' '1246' '1249'\n",
      " '1252' '1266' '1267' '1268' '1272' '1273' '1275' '1277' '1279' '1282'\n",
      " '1285' '1286' '1288' '1292' '1296' '1297' '1301' '1304' '1307' '1308'\n",
      " '1317' '1323' '1324' '1325' '1327' '1341' '1342' '1345' '1346' '1347'\n",
      " '1356' '1357' '1360' '1361' '1363' '1365' '1366' '1368' '1369' '1375'\n",
      " '1384' '1387' '1391' '1399' '1405' '1408' '1411' '1413' '1426' '1436'\n",
      " '1437' '1438' '1440' '1441' '1442' '1451' '1452' '1466' '1468' '1470'\n",
      " '1473' '1474' '1481' '1482' '1486' '1488' '1493' '1502' '1503' '1505'\n",
      " '1511' '1514' '1515' '1516' '1518' '1522' '1525' '1528' '1529' '1531'\n",
      " '1533' '1537' '1539' '155' '1552' '1553' '1572' '1575' '1578' '1586'\n",
      " '1588' '1590' '1598' '1599' '1604' '1620' '1621' '1624' '1641' '1646'\n",
      " '1659' '1661' '1662' '1664' '1668' '167' '1671' '1673' '1675' '1677'\n",
      " '1678' '1680' '1681' '1685' '1688' '1694' '1699' '1701' '1705' '1708'\n",
      " '1714' '1716' '1719' '1723' '173' '1730' '1736' '175' '1750' '1756'\n",
      " '1759' '1760' '1768' '1781' '1793' '1807' '1811' '1816' '1817' '1820'\n",
      " '1823' '1829' '1832' '1834' '1836' '1841' '1845' '1848' '1850' '1855'\n",
      " '1866' '1869' '1872' '1885' '1888' '1901' '1917' '1924' '1935' '1946'\n",
      " '1948' '1951' '1960' '1968' '1974' '1975' '1991' '1993' '1995' '1996'\n",
      " '1998' '2000' '2002' '2004' '2018' '2054' '2056' '2067' '2070' '2073'\n",
      " '2078' '2080' '2082' '2084' '2108' '2123' '2148' '2151' '2156' '2177'\n",
      " '2188' '2195' '2209' '2216' '2223' '2225' '2236' '2265' '2266' '2269'\n",
      " '2278' '2297' '2308' '2337' '2364' '2377' '2386' '2410' '2418' '2421'\n",
      " '2455' '2467' '2469' '247' '2472' '2476' '2505' '2562' '2566' '2570'\n",
      " '2578' '259' '2606' '2628' '2658' '2670' '2690' '2705' '271' '2711'\n",
      " '2715' '2736' '279' '2819' '2858' '2866' '2874' '289' '2908' '2909'\n",
      " '2913' '294' '2959' '2971' '3008' '3015' '3025' '3057' '308' '3112'\n",
      " '3141' '3156' '3184' '3208' '3268' '3273' '328' '3292' '3301' '3329'\n",
      " '333' '345' '3505' '3518' '353' '3571' '362' '363' '364' '3699' '3739'\n",
      " '3743' '3811' '382' '3894' '3910' '394' '3965' '397' '3989' '399' '400'\n",
      " '402' '4057' '418' '419' '420' '421' '424' '425' '426' '4283' '431' '441'\n",
      " '442' '446' '447' '448' '4508' '456' '460' '461' '462' '463' '473' '4736'\n",
      " '474' '4741' '475' '481' '4860' '488' '489' '490' '494' '501' '502' '503'\n",
      " '505' '517' '518' '521' '524' '526' '527' '528' '530' '531' '5332' '551'\n",
      " '552' '556' '557' '5603' '562' '565' '5666' '5679' '5681' '574' '579'\n",
      " '583' '584' '585' '586' '5877' '5908' '595' '603' '604' '605' '607' '609'\n",
      " '612' '614' '617' '623' '626' '627' '629' '636' '637' '638' '639' '640'\n",
      " '641' '642' '644' '645' '649' '650' '658' '663' '666' '668' '676' '681'\n",
      " '682' '683' '686' '687' '690' '691' '692' '694' '695' '696' '697' '702'\n",
      " '7058' '706' '7063' '707' '714' '722' '723' '724' '729' '730' '731' '732'\n",
      " '738' '741' '742' '746' '748' '749' '750' '751' '753' '7536' '760' '761'\n",
      " '764' '765' '769' '770' '777' '779' '780' '781' '784' '789' '790' '792'\n",
      " '798' '799' '800' '810' '822' '827' '828' '830' '831' '832' '833' '834'\n",
      " '836' '841' '843' '859' '862' '864' '866' '867' '87' '870' '873' '874'\n",
      " '875' '876' '877' '878' '879' '880' '889' '890' '891' '893' '900' '911'\n",
      " '915' '916' '917' '919' '922' '924' '928' '930' '934' '944' '949' '955'\n",
      " '961' '965' '966' '967' '970' '971' '972' '975' '978' '980' '986' '988'\n",
      " '993' '994' '997']\n"
     ]
    }
   ],
   "source": [
    "print(np.unique(df['Levy']))"
   ]
  },
  {
   "cell_type": "markdown",
   "id": "bcc2846f-778a-4e2d-9871-0e0a20aa5252",
   "metadata": {
    "jp-MarkdownHeadingCollapsed": true
   },
   "source": [
    "## data preprocessing\n",
    "-Replacing unsual characters with NaN values\n",
    "\n",
    "-Drop the ID column\n",
    "\n",
    "-Normalizing column names\n",
    "\n",
    "-Remove km from Mileage coumn\n",
    "\n",
    "-Filling of missing\n"
   ]
  },
  {
   "cell_type": "code",
   "execution_count": 28,
   "id": "14ae5da3-02f6-4d3e-b943-fafabbe2c697",
   "metadata": {},
   "outputs": [],
   "source": [
    "data = pd.read_csv(\"dataset/car_price_prediction.csv\", na_values=['-'])"
   ]
  },
  {
   "cell_type": "code",
   "execution_count": 29,
   "id": "d392a220-c9e2-424c-8b03-a368700d0374",
   "metadata": {},
   "outputs": [
    {
     "data": {
      "text/plain": [
       "ID                     0\n",
       "Price                  0\n",
       "Levy                5819\n",
       "Manufacturer           0\n",
       "Model                  0\n",
       "Prod. year             0\n",
       "Category               0\n",
       "Leather interior       0\n",
       "Fuel type              0\n",
       "Engine volume          0\n",
       "Mileage                0\n",
       "Cylinders              0\n",
       "Gear box type          0\n",
       "Drive wheels           0\n",
       "Doors                  0\n",
       "Wheel                  0\n",
       "Color                  0\n",
       "Airbags                0\n",
       "dtype: int64"
      ]
     },
     "execution_count": 29,
     "metadata": {},
     "output_type": "execute_result"
    }
   ],
   "source": [
    "data.isnull().sum()"
   ]
  },
  {
   "cell_type": "code",
   "execution_count": 30,
   "id": "047a0d3f-0652-408f-8019-090f3e6a01e0",
   "metadata": {},
   "outputs": [
    {
     "name": "stdout",
     "output_type": "stream",
     "text": [
      "[   87.   115.   155.   167.   173.   175.   247.   259.   271.   279.\n",
      "   289.   294.   308.   328.   333.   345.   353.   362.   363.   364.\n",
      "   382.   394.   397.   399.   400.   402.   418.   419.   420.   421.\n",
      "   424.   425.   426.   431.   441.   442.   446.   447.   448.   456.\n",
      "   460.   461.   462.   463.   473.   474.   475.   481.   488.   489.\n",
      "   490.   494.   501.   502.   503.   505.   517.   518.   521.   524.\n",
      "   526.   527.   528.   530.   531.   551.   552.   556.   557.   562.\n",
      "   565.   574.   579.   583.   584.   585.   586.   595.   603.   604.\n",
      "   605.   607.   609.   612.   614.   617.   623.   626.   627.   629.\n",
      "   636.   637.   638.   639.   640.   641.   642.   644.   645.   649.\n",
      "   650.   658.   663.   666.   668.   676.   681.   682.   683.   686.\n",
      "   687.   690.   691.   692.   694.   695.   696.   697.   702.   706.\n",
      "   707.   714.   722.   723.   724.   729.   730.   731.   732.   738.\n",
      "   741.   742.   746.   748.   749.   750.   751.   753.   760.   761.\n",
      "   764.   765.   769.   770.   777.   779.   780.   781.   784.   789.\n",
      "   790.   792.   798.   799.   800.   810.   822.   827.   828.   830.\n",
      "   831.   832.   833.   834.   836.   841.   843.   859.   862.   864.\n",
      "   866.   867.   870.   873.   874.   875.   876.   877.   878.   879.\n",
      "   880.   889.   890.   891.   893.   900.   911.   915.   916.   917.\n",
      "   919.   922.   924.   928.   930.   934.   944.   949.   955.   961.\n",
      "   965.   966.   967.   970.   971.   972.   975.   978.   980.   986.\n",
      "   988.   993.   994.   997.  1011.  1016.  1017.  1018.  1024.  1028.\n",
      "  1030.  1031.  1032.  1036.  1039.  1045.  1047.  1051.  1053.  1054.\n",
      "  1055.  1058.  1062.  1064.  1076.  1077.  1079.  1080.  1083.  1086.\n",
      "  1090.  1091.  1094.  1095.  1099.  1103.  1104.  1107.  1108.  1109.\n",
      "  1110.  1111.  1113.  1118.  1132.  1138.  1141.  1148.  1156.  1163.\n",
      "  1171.  1172.  1174.  1176.  1178.  1185.  1187.  1190.  1194.  1195.\n",
      "  1197.  1198.  1202.  1203.  1205.  1211.  1228.  1234.  1236.  1246.\n",
      "  1249.  1252.  1266.  1267.  1268.  1272.  1273.  1275.  1277.  1279.\n",
      "  1282.  1285.  1286.  1288.  1292.  1296.  1297.  1301.  1304.  1307.\n",
      "  1308.  1317.  1323.  1324.  1325.  1327.  1341.  1342.  1345.  1346.\n",
      "  1347.  1356.  1357.  1360.  1361.  1363.  1365.  1366.  1368.  1369.\n",
      "  1375.  1384.  1387.  1391.  1399.  1405.  1408.  1411.  1413.  1426.\n",
      "  1436.  1437.  1438.  1440.  1441.  1442.  1451.  1452.  1466.  1468.\n",
      "  1470.  1473.  1474.  1481.  1482.  1486.  1488.  1493.  1502.  1503.\n",
      "  1505.  1511.  1514.  1515.  1516.  1518.  1522.  1525.  1528.  1529.\n",
      "  1531.  1533.  1537.  1539.  1552.  1553.  1572.  1575.  1578.  1586.\n",
      "  1588.  1590.  1598.  1599.  1604.  1620.  1621.  1624.  1641.  1646.\n",
      "  1659.  1661.  1662.  1664.  1668.  1671.  1673.  1675.  1677.  1678.\n",
      "  1680.  1681.  1685.  1688.  1694.  1699.  1701.  1705.  1708.  1714.\n",
      "  1716.  1719.  1723.  1730.  1736.  1750.  1756.  1759.  1760.  1768.\n",
      "  1781.  1793.  1807.  1811.  1816.  1817.  1820.  1823.  1829.  1832.\n",
      "  1834.  1836.  1841.  1845.  1848.  1850.  1855.  1866.  1869.  1872.\n",
      "  1885.  1888.  1901.  1917.  1924.  1935.  1946.  1948.  1951.  1960.\n",
      "  1968.  1974.  1975.  1991.  1993.  1995.  1996.  1998.  2000.  2002.\n",
      "  2004.  2018.  2054.  2056.  2067.  2070.  2073.  2078.  2080.  2082.\n",
      "  2084.  2108.  2123.  2148.  2151.  2156.  2177.  2188.  2195.  2209.\n",
      "  2216.  2223.  2225.  2236.  2265.  2266.  2269.  2278.  2297.  2308.\n",
      "  2337.  2364.  2377.  2386.  2410.  2418.  2421.  2455.  2467.  2469.\n",
      "  2472.  2476.  2505.  2562.  2566.  2570.  2578.  2606.  2628.  2658.\n",
      "  2670.  2690.  2705.  2711.  2715.  2736.  2819.  2858.  2866.  2874.\n",
      "  2908.  2909.  2913.  2959.  2971.  3008.  3015.  3025.  3057.  3112.\n",
      "  3141.  3156.  3184.  3208.  3268.  3273.  3292.  3301.  3329.  3505.\n",
      "  3518.  3571.  3699.  3739.  3743.  3811.  3894.  3910.  3965.  3989.\n",
      "  4057.  4283.  4508.  4736.  4741.  4860.  5332.  5603.  5666.  5679.\n",
      "  5681.  5877.  5908.  7058.  7063.  7536. 11706. 11714.    nan]\n"
     ]
    }
   ],
   "source": [
    "print(np.unique(data['Levy']))"
   ]
  },
  {
   "cell_type": "code",
   "execution_count": 31,
   "id": "38757ba7-26cd-4d7f-a459-2fc30dc30b5c",
   "metadata": {},
   "outputs": [
    {
     "name": "stdout",
     "output_type": "stream",
     "text": [
      "<class 'pandas.core.frame.DataFrame'>\n",
      "RangeIndex: 19237 entries, 0 to 19236\n",
      "Data columns (total 18 columns):\n",
      " #   Column            Non-Null Count  Dtype  \n",
      "---  ------            --------------  -----  \n",
      " 0   ID                19237 non-null  int64  \n",
      " 1   Price             19237 non-null  int64  \n",
      " 2   Levy              13418 non-null  float64\n",
      " 3   Manufacturer      19237 non-null  object \n",
      " 4   Model             19237 non-null  object \n",
      " 5   Prod. year        19237 non-null  int64  \n",
      " 6   Category          19237 non-null  object \n",
      " 7   Leather interior  19237 non-null  object \n",
      " 8   Fuel type         19237 non-null  object \n",
      " 9   Engine volume     19237 non-null  object \n",
      " 10  Mileage           19237 non-null  object \n",
      " 11  Cylinders         19237 non-null  float64\n",
      " 12  Gear box type     19237 non-null  object \n",
      " 13  Drive wheels      19237 non-null  object \n",
      " 14  Doors             19237 non-null  object \n",
      " 15  Wheel             19237 non-null  object \n",
      " 16  Color             19237 non-null  object \n",
      " 17  Airbags           19237 non-null  int64  \n",
      "dtypes: float64(2), int64(4), object(12)\n",
      "memory usage: 2.6+ MB\n"
     ]
    }
   ],
   "source": [
    "## get a summary description of the data\n",
    "data.info()"
   ]
  },
  {
   "cell_type": "code",
   "execution_count": 32,
   "id": "c8703339-c0f4-41fc-9a1c-1fa6ee11105e",
   "metadata": {},
   "outputs": [
    {
     "data": {
      "text/plain": [
       "19253"
      ]
     },
     "execution_count": 32,
     "metadata": {},
     "output_type": "execute_result"
    }
   ],
   "source": [
    "## converting FuelType col to categorical\n",
    "data['Leather interior'] = data['Leather interior'].astype('category')\n",
    "data['Leather interior'].nbytes"
   ]
  },
  {
   "cell_type": "code",
   "execution_count": 33,
   "id": "47206f0a-8922-45c9-b65f-f1713025bb6b",
   "metadata": {},
   "outputs": [
    {
     "data": {
      "text/plain": [
       "19253"
      ]
     },
     "execution_count": 33,
     "metadata": {},
     "output_type": "execute_result"
    }
   ],
   "source": [
    "## converting FuelType col to categorical\n",
    "data['Wheel'] = data['Wheel'].astype('category')\n",
    "data['Wheel'].nbytes"
   ]
  },
  {
   "cell_type": "code",
   "execution_count": 34,
   "id": "a4cd47cc-d469-42de-8a97-f19932f98000",
   "metadata": {},
   "outputs": [
    {
     "data": {
      "text/html": [
       "<div>\n",
       "<style scoped>\n",
       "    .dataframe tbody tr th:only-of-type {\n",
       "        vertical-align: middle;\n",
       "    }\n",
       "\n",
       "    .dataframe tbody tr th {\n",
       "        vertical-align: top;\n",
       "    }\n",
       "\n",
       "    .dataframe thead th {\n",
       "        text-align: right;\n",
       "    }\n",
       "</style>\n",
       "<table border=\"1\" class=\"dataframe\">\n",
       "  <thead>\n",
       "    <tr style=\"text-align: right;\">\n",
       "      <th></th>\n",
       "      <th>ID</th>\n",
       "      <th>Price</th>\n",
       "      <th>Levy</th>\n",
       "      <th>Manufacturer</th>\n",
       "      <th>Model</th>\n",
       "      <th>Prod. year</th>\n",
       "      <th>Category</th>\n",
       "      <th>Leather interior</th>\n",
       "      <th>Fuel type</th>\n",
       "      <th>Engine volume</th>\n",
       "      <th>Mileage</th>\n",
       "      <th>Cylinders</th>\n",
       "      <th>Gear box type</th>\n",
       "      <th>Drive wheels</th>\n",
       "      <th>Doors</th>\n",
       "      <th>Wheel</th>\n",
       "      <th>Color</th>\n",
       "      <th>Airbags</th>\n",
       "    </tr>\n",
       "  </thead>\n",
       "  <tbody>\n",
       "    <tr>\n",
       "      <th>0</th>\n",
       "      <td>45654403</td>\n",
       "      <td>13328</td>\n",
       "      <td>1399.0</td>\n",
       "      <td>LEXUS</td>\n",
       "      <td>RX 450</td>\n",
       "      <td>2010</td>\n",
       "      <td>Jeep</td>\n",
       "      <td>Yes</td>\n",
       "      <td>Hybrid</td>\n",
       "      <td>3.5</td>\n",
       "      <td>186005 km</td>\n",
       "      <td>6.0</td>\n",
       "      <td>Automatic</td>\n",
       "      <td>4x4</td>\n",
       "      <td>04-May</td>\n",
       "      <td>Left wheel</td>\n",
       "      <td>Silver</td>\n",
       "      <td>12</td>\n",
       "    </tr>\n",
       "    <tr>\n",
       "      <th>1</th>\n",
       "      <td>44731507</td>\n",
       "      <td>16621</td>\n",
       "      <td>1018.0</td>\n",
       "      <td>CHEVROLET</td>\n",
       "      <td>Equinox</td>\n",
       "      <td>2011</td>\n",
       "      <td>Jeep</td>\n",
       "      <td>No</td>\n",
       "      <td>Petrol</td>\n",
       "      <td>3</td>\n",
       "      <td>192000 km</td>\n",
       "      <td>6.0</td>\n",
       "      <td>Tiptronic</td>\n",
       "      <td>4x4</td>\n",
       "      <td>04-May</td>\n",
       "      <td>Left wheel</td>\n",
       "      <td>Black</td>\n",
       "      <td>8</td>\n",
       "    </tr>\n",
       "    <tr>\n",
       "      <th>2</th>\n",
       "      <td>45774419</td>\n",
       "      <td>8467</td>\n",
       "      <td>NaN</td>\n",
       "      <td>HONDA</td>\n",
       "      <td>FIT</td>\n",
       "      <td>2006</td>\n",
       "      <td>Hatchback</td>\n",
       "      <td>No</td>\n",
       "      <td>Petrol</td>\n",
       "      <td>1.3</td>\n",
       "      <td>200000 km</td>\n",
       "      <td>4.0</td>\n",
       "      <td>Variator</td>\n",
       "      <td>Front</td>\n",
       "      <td>04-May</td>\n",
       "      <td>Right-hand drive</td>\n",
       "      <td>Black</td>\n",
       "      <td>2</td>\n",
       "    </tr>\n",
       "    <tr>\n",
       "      <th>3</th>\n",
       "      <td>45769185</td>\n",
       "      <td>3607</td>\n",
       "      <td>862.0</td>\n",
       "      <td>FORD</td>\n",
       "      <td>Escape</td>\n",
       "      <td>2011</td>\n",
       "      <td>Jeep</td>\n",
       "      <td>Yes</td>\n",
       "      <td>Hybrid</td>\n",
       "      <td>2.5</td>\n",
       "      <td>168966 km</td>\n",
       "      <td>4.0</td>\n",
       "      <td>Automatic</td>\n",
       "      <td>4x4</td>\n",
       "      <td>04-May</td>\n",
       "      <td>Left wheel</td>\n",
       "      <td>White</td>\n",
       "      <td>0</td>\n",
       "    </tr>\n",
       "    <tr>\n",
       "      <th>4</th>\n",
       "      <td>45809263</td>\n",
       "      <td>11726</td>\n",
       "      <td>446.0</td>\n",
       "      <td>HONDA</td>\n",
       "      <td>FIT</td>\n",
       "      <td>2014</td>\n",
       "      <td>Hatchback</td>\n",
       "      <td>Yes</td>\n",
       "      <td>Petrol</td>\n",
       "      <td>1.3</td>\n",
       "      <td>91901 km</td>\n",
       "      <td>4.0</td>\n",
       "      <td>Automatic</td>\n",
       "      <td>Front</td>\n",
       "      <td>04-May</td>\n",
       "      <td>Left wheel</td>\n",
       "      <td>Silver</td>\n",
       "      <td>4</td>\n",
       "    </tr>\n",
       "    <tr>\n",
       "      <th>...</th>\n",
       "      <td>...</td>\n",
       "      <td>...</td>\n",
       "      <td>...</td>\n",
       "      <td>...</td>\n",
       "      <td>...</td>\n",
       "      <td>...</td>\n",
       "      <td>...</td>\n",
       "      <td>...</td>\n",
       "      <td>...</td>\n",
       "      <td>...</td>\n",
       "      <td>...</td>\n",
       "      <td>...</td>\n",
       "      <td>...</td>\n",
       "      <td>...</td>\n",
       "      <td>...</td>\n",
       "      <td>...</td>\n",
       "      <td>...</td>\n",
       "      <td>...</td>\n",
       "    </tr>\n",
       "    <tr>\n",
       "      <th>19232</th>\n",
       "      <td>45798355</td>\n",
       "      <td>8467</td>\n",
       "      <td>NaN</td>\n",
       "      <td>MERCEDES-BENZ</td>\n",
       "      <td>CLK 200</td>\n",
       "      <td>1999</td>\n",
       "      <td>Coupe</td>\n",
       "      <td>Yes</td>\n",
       "      <td>CNG</td>\n",
       "      <td>2.0 Turbo</td>\n",
       "      <td>300000 km</td>\n",
       "      <td>4.0</td>\n",
       "      <td>Manual</td>\n",
       "      <td>Rear</td>\n",
       "      <td>02-Mar</td>\n",
       "      <td>Left wheel</td>\n",
       "      <td>Silver</td>\n",
       "      <td>5</td>\n",
       "    </tr>\n",
       "    <tr>\n",
       "      <th>19233</th>\n",
       "      <td>45778856</td>\n",
       "      <td>15681</td>\n",
       "      <td>831.0</td>\n",
       "      <td>HYUNDAI</td>\n",
       "      <td>Sonata</td>\n",
       "      <td>2011</td>\n",
       "      <td>Sedan</td>\n",
       "      <td>Yes</td>\n",
       "      <td>Petrol</td>\n",
       "      <td>2.4</td>\n",
       "      <td>161600 km</td>\n",
       "      <td>4.0</td>\n",
       "      <td>Tiptronic</td>\n",
       "      <td>Front</td>\n",
       "      <td>04-May</td>\n",
       "      <td>Left wheel</td>\n",
       "      <td>Red</td>\n",
       "      <td>8</td>\n",
       "    </tr>\n",
       "    <tr>\n",
       "      <th>19234</th>\n",
       "      <td>45804997</td>\n",
       "      <td>26108</td>\n",
       "      <td>836.0</td>\n",
       "      <td>HYUNDAI</td>\n",
       "      <td>Tucson</td>\n",
       "      <td>2010</td>\n",
       "      <td>Jeep</td>\n",
       "      <td>Yes</td>\n",
       "      <td>Diesel</td>\n",
       "      <td>2</td>\n",
       "      <td>116365 km</td>\n",
       "      <td>4.0</td>\n",
       "      <td>Automatic</td>\n",
       "      <td>Front</td>\n",
       "      <td>04-May</td>\n",
       "      <td>Left wheel</td>\n",
       "      <td>Grey</td>\n",
       "      <td>4</td>\n",
       "    </tr>\n",
       "    <tr>\n",
       "      <th>19235</th>\n",
       "      <td>45793526</td>\n",
       "      <td>5331</td>\n",
       "      <td>1288.0</td>\n",
       "      <td>CHEVROLET</td>\n",
       "      <td>Captiva</td>\n",
       "      <td>2007</td>\n",
       "      <td>Jeep</td>\n",
       "      <td>Yes</td>\n",
       "      <td>Diesel</td>\n",
       "      <td>2</td>\n",
       "      <td>51258 km</td>\n",
       "      <td>4.0</td>\n",
       "      <td>Automatic</td>\n",
       "      <td>Front</td>\n",
       "      <td>04-May</td>\n",
       "      <td>Left wheel</td>\n",
       "      <td>Black</td>\n",
       "      <td>4</td>\n",
       "    </tr>\n",
       "    <tr>\n",
       "      <th>19236</th>\n",
       "      <td>45813273</td>\n",
       "      <td>470</td>\n",
       "      <td>753.0</td>\n",
       "      <td>HYUNDAI</td>\n",
       "      <td>Sonata</td>\n",
       "      <td>2012</td>\n",
       "      <td>Sedan</td>\n",
       "      <td>Yes</td>\n",
       "      <td>Hybrid</td>\n",
       "      <td>2.4</td>\n",
       "      <td>186923 km</td>\n",
       "      <td>4.0</td>\n",
       "      <td>Automatic</td>\n",
       "      <td>Front</td>\n",
       "      <td>04-May</td>\n",
       "      <td>Left wheel</td>\n",
       "      <td>White</td>\n",
       "      <td>12</td>\n",
       "    </tr>\n",
       "  </tbody>\n",
       "</table>\n",
       "<p>19237 rows × 18 columns</p>\n",
       "</div>"
      ],
      "text/plain": [
       "             ID  Price    Levy   Manufacturer    Model  Prod. year   Category  \\\n",
       "0      45654403  13328  1399.0          LEXUS   RX 450        2010       Jeep   \n",
       "1      44731507  16621  1018.0      CHEVROLET  Equinox        2011       Jeep   \n",
       "2      45774419   8467     NaN          HONDA      FIT        2006  Hatchback   \n",
       "3      45769185   3607   862.0           FORD   Escape        2011       Jeep   \n",
       "4      45809263  11726   446.0          HONDA      FIT        2014  Hatchback   \n",
       "...         ...    ...     ...            ...      ...         ...        ...   \n",
       "19232  45798355   8467     NaN  MERCEDES-BENZ  CLK 200        1999      Coupe   \n",
       "19233  45778856  15681   831.0        HYUNDAI   Sonata        2011      Sedan   \n",
       "19234  45804997  26108   836.0        HYUNDAI   Tucson        2010       Jeep   \n",
       "19235  45793526   5331  1288.0      CHEVROLET  Captiva        2007       Jeep   \n",
       "19236  45813273    470   753.0        HYUNDAI   Sonata        2012      Sedan   \n",
       "\n",
       "      Leather interior Fuel type Engine volume    Mileage  Cylinders  \\\n",
       "0                  Yes    Hybrid           3.5  186005 km        6.0   \n",
       "1                   No    Petrol             3  192000 km        6.0   \n",
       "2                   No    Petrol           1.3  200000 km        4.0   \n",
       "3                  Yes    Hybrid           2.5  168966 km        4.0   \n",
       "4                  Yes    Petrol           1.3   91901 km        4.0   \n",
       "...                ...       ...           ...        ...        ...   \n",
       "19232              Yes       CNG     2.0 Turbo  300000 km        4.0   \n",
       "19233              Yes    Petrol           2.4  161600 km        4.0   \n",
       "19234              Yes    Diesel             2  116365 km        4.0   \n",
       "19235              Yes    Diesel             2   51258 km        4.0   \n",
       "19236              Yes    Hybrid           2.4  186923 km        4.0   \n",
       "\n",
       "      Gear box type Drive wheels   Doors             Wheel   Color  Airbags  \n",
       "0         Automatic          4x4  04-May        Left wheel  Silver       12  \n",
       "1         Tiptronic          4x4  04-May        Left wheel   Black        8  \n",
       "2          Variator        Front  04-May  Right-hand drive   Black        2  \n",
       "3         Automatic          4x4  04-May        Left wheel   White        0  \n",
       "4         Automatic        Front  04-May        Left wheel  Silver        4  \n",
       "...             ...          ...     ...               ...     ...      ...  \n",
       "19232        Manual         Rear  02-Mar        Left wheel  Silver        5  \n",
       "19233     Tiptronic        Front  04-May        Left wheel     Red        8  \n",
       "19234     Automatic        Front  04-May        Left wheel    Grey        4  \n",
       "19235     Automatic        Front  04-May        Left wheel   Black        4  \n",
       "19236     Automatic        Front  04-May        Left wheel   White       12  \n",
       "\n",
       "[19237 rows x 18 columns]"
      ]
     },
     "execution_count": 34,
     "metadata": {},
     "output_type": "execute_result"
    }
   ],
   "source": [
    "data"
   ]
  },
  {
   "cell_type": "code",
   "execution_count": 35,
   "id": "49b0e119-b8c0-4268-8339-9a6bc8e3eca4",
   "metadata": {},
   "outputs": [
    {
     "data": {
      "text/plain": [
       "0        186005 km\n",
       "1        192000 km\n",
       "2        200000 km\n",
       "3        168966 km\n",
       "4         91901 km\n",
       "           ...    \n",
       "19232    300000 km\n",
       "19233    161600 km\n",
       "19234    116365 km\n",
       "19235     51258 km\n",
       "19236    186923 km\n",
       "Name: Mileage, Length: 19237, dtype: object"
      ]
     },
     "execution_count": 35,
     "metadata": {},
     "output_type": "execute_result"
    }
   ],
   "source": [
    "data['Mileage']"
   ]
  },
  {
   "cell_type": "code",
   "execution_count": 36,
   "id": "3950ee44-6c9c-4c63-bfd2-840eb361ea73",
   "metadata": {},
   "outputs": [],
   "source": [
    "data['Mileage'] = data['Mileage'].str.replace(' km', '')"
   ]
  },
  {
   "cell_type": "code",
   "execution_count": 37,
   "id": "583d0bb0-f6f8-4044-b7a6-d8b535cc6905",
   "metadata": {},
   "outputs": [
    {
     "data": {
      "text/plain": [
       "0        186005\n",
       "1        192000\n",
       "2        200000\n",
       "3        168966\n",
       "4         91901\n",
       "          ...  \n",
       "19232    300000\n",
       "19233    161600\n",
       "19234    116365\n",
       "19235     51258\n",
       "19236    186923\n",
       "Name: Mileage, Length: 19237, dtype: object"
      ]
     },
     "execution_count": 37,
     "metadata": {},
     "output_type": "execute_result"
    }
   ],
   "source": [
    "data['Mileage']"
   ]
  },
  {
   "cell_type": "code",
   "execution_count": 38,
   "id": "b256f3f4-c16c-49e2-b2b5-6d32a5a9e573",
   "metadata": {},
   "outputs": [
    {
     "data": {
      "text/plain": [
       "'160931'"
      ]
     },
     "execution_count": 38,
     "metadata": {},
     "output_type": "execute_result"
    }
   ],
   "source": [
    "data['Mileage'][5]"
   ]
  },
  {
   "cell_type": "code",
   "execution_count": 39,
   "id": "4877ea58-0f25-49fe-8b7c-4f9c08180462",
   "metadata": {},
   "outputs": [
    {
     "data": {
      "text/plain": [
       "76948"
      ]
     },
     "execution_count": 39,
     "metadata": {},
     "output_type": "execute_result"
    }
   ],
   "source": [
    "## converting FuelType col to categorical\n",
    "data['Mileage'] = data['Mileage'].astype('int')\n",
    "data['Mileage'].nbytes"
   ]
  },
  {
   "cell_type": "code",
   "execution_count": 40,
   "id": "4a7b350d-8122-46c6-87df-e140340e4ffd",
   "metadata": {},
   "outputs": [
    {
     "data": {
      "text/plain": [
       "Index(['ID', 'Price', 'Levy', 'Manufacturer', 'Model', 'Prod. year',\n",
       "       'Category', 'Leather interior', 'Fuel type', 'Engine volume', 'Mileage',\n",
       "       'Cylinders', 'Gear box type', 'Drive wheels', 'Doors', 'Wheel', 'Color',\n",
       "       'Airbags'],\n",
       "      dtype='object')"
      ]
     },
     "execution_count": 40,
     "metadata": {},
     "output_type": "execute_result"
    }
   ],
   "source": [
    "data.columns"
   ]
  },
  {
   "cell_type": "code",
   "execution_count": 41,
   "id": "5091107c-d037-4f78-994a-5e825f0b3072",
   "metadata": {},
   "outputs": [],
   "source": [
    "data = data.drop(['ID'], axis=1)"
   ]
  },
  {
   "cell_type": "code",
   "execution_count": 42,
   "id": "3ace6cf8-9aa7-490d-9a3a-b8f4bd22d970",
   "metadata": {},
   "outputs": [
    {
     "data": {
      "text/plain": [
       "Index(['Price', 'Levy', 'Manufacturer', 'Model', 'Prod. year', 'Category',\n",
       "       'Leather interior', 'Fuel type', 'Engine volume', 'Mileage',\n",
       "       'Cylinders', 'Gear box type', 'Drive wheels', 'Doors', 'Wheel', 'Color',\n",
       "       'Airbags'],\n",
       "      dtype='object')"
      ]
     },
     "execution_count": 42,
     "metadata": {},
     "output_type": "execute_result"
    }
   ],
   "source": [
    "data.columns"
   ]
  },
  {
   "cell_type": "code",
   "execution_count": 43,
   "id": "afddf975-a458-4104-bfbb-3c8a0e8396d7",
   "metadata": {},
   "outputs": [
    {
     "name": "stdout",
     "output_type": "stream",
     "text": [
      "Price\n",
      "Levy\n",
      "Manufacturer\n",
      "Model\n",
      "Prod. year\n",
      "Category\n",
      "Leather interior\n",
      "Fuel type\n",
      "Engine volume\n",
      "Mileage\n",
      "Cylinders\n",
      "Gear box type\n",
      "Drive wheels\n",
      "Doors\n",
      "Wheel\n",
      "Color\n",
      "Airbags\n"
     ]
    }
   ],
   "source": [
    "for col in data.columns:\n",
    "    print(col)"
   ]
  },
  {
   "cell_type": "code",
   "execution_count": 44,
   "id": "5563e45b-00e2-4988-a33e-13148b89d4a1",
   "metadata": {},
   "outputs": [
    {
     "data": {
      "text/plain": [
       "'price'"
      ]
     },
     "execution_count": 44,
     "metadata": {},
     "output_type": "execute_result"
    }
   ],
   "source": [
    "data.columns[0].lower().replace(' ', '-')"
   ]
  },
  {
   "cell_type": "code",
   "execution_count": 45,
   "id": "08a88d58-80bb-4da3-a1bd-4cb3a8c24214",
   "metadata": {},
   "outputs": [],
   "source": [
    "strings_column_names = list(data.dtypes[data.dtypes == 'object'].index)\n",
    "for col in strings_column_names:\n",
    "    data[col] = data[col].str.lower().str.replace(' ', '-')"
   ]
  },
  {
   "cell_type": "code",
   "execution_count": 46,
   "id": "d73bac14-66f4-43b9-9bc4-0eec930ac996",
   "metadata": {},
   "outputs": [],
   "source": [
    "data['Levy'] = data['Levy'].fillna(data['Levy'].mean())"
   ]
  },
  {
   "cell_type": "code",
   "execution_count": 47,
   "id": "689a5f79-43bb-43d0-8802-45314789b434",
   "metadata": {},
   "outputs": [
    {
     "data": {
      "text/plain": [
       "0"
      ]
     },
     "execution_count": 47,
     "metadata": {},
     "output_type": "execute_result"
    }
   ],
   "source": [
    "data['Levy'].isnull().sum()"
   ]
  },
  {
   "cell_type": "markdown",
   "id": "deb7f55b-a14d-41d3-ad9a-f5562a5081e7",
   "metadata": {
    "jp-MarkdownHeadingCollapsed": true
   },
   "source": [
    "## Exploratory Data Analysis\n",
    "-statistical summary\n",
    "\n",
    "-target variable analysis"
   ]
  },
  {
   "cell_type": "code",
   "execution_count": 48,
   "id": "ae1e71dc-5412-4e7d-9deb-b59b75b46be3",
   "metadata": {},
   "outputs": [
    {
     "data": {
      "text/html": [
       "<div>\n",
       "<style scoped>\n",
       "    .dataframe tbody tr th:only-of-type {\n",
       "        vertical-align: middle;\n",
       "    }\n",
       "\n",
       "    .dataframe tbody tr th {\n",
       "        vertical-align: top;\n",
       "    }\n",
       "\n",
       "    .dataframe thead th {\n",
       "        text-align: right;\n",
       "    }\n",
       "</style>\n",
       "<table border=\"1\" class=\"dataframe\">\n",
       "  <thead>\n",
       "    <tr style=\"text-align: right;\">\n",
       "      <th></th>\n",
       "      <th>Price</th>\n",
       "      <th>Levy</th>\n",
       "      <th>Prod. year</th>\n",
       "      <th>Mileage</th>\n",
       "      <th>Cylinders</th>\n",
       "      <th>Airbags</th>\n",
       "    </tr>\n",
       "  </thead>\n",
       "  <tbody>\n",
       "    <tr>\n",
       "      <th>count</th>\n",
       "      <td>19237.0</td>\n",
       "      <td>19237.0</td>\n",
       "      <td>19237.0</td>\n",
       "      <td>1.923700e+04</td>\n",
       "      <td>19237.0</td>\n",
       "      <td>19237.0</td>\n",
       "    </tr>\n",
       "    <tr>\n",
       "      <th>mean</th>\n",
       "      <td>18556.0</td>\n",
       "      <td>907.0</td>\n",
       "      <td>2011.0</td>\n",
       "      <td>1.532236e+06</td>\n",
       "      <td>5.0</td>\n",
       "      <td>7.0</td>\n",
       "    </tr>\n",
       "    <tr>\n",
       "      <th>std</th>\n",
       "      <td>190581.0</td>\n",
       "      <td>386.0</td>\n",
       "      <td>6.0</td>\n",
       "      <td>4.840387e+07</td>\n",
       "      <td>1.0</td>\n",
       "      <td>4.0</td>\n",
       "    </tr>\n",
       "    <tr>\n",
       "      <th>min</th>\n",
       "      <td>1.0</td>\n",
       "      <td>87.0</td>\n",
       "      <td>1939.0</td>\n",
       "      <td>0.000000e+00</td>\n",
       "      <td>1.0</td>\n",
       "      <td>0.0</td>\n",
       "    </tr>\n",
       "    <tr>\n",
       "      <th>25%</th>\n",
       "      <td>5331.0</td>\n",
       "      <td>730.0</td>\n",
       "      <td>2009.0</td>\n",
       "      <td>7.013900e+04</td>\n",
       "      <td>4.0</td>\n",
       "      <td>4.0</td>\n",
       "    </tr>\n",
       "    <tr>\n",
       "      <th>50%</th>\n",
       "      <td>13172.0</td>\n",
       "      <td>907.0</td>\n",
       "      <td>2012.0</td>\n",
       "      <td>1.260000e+05</td>\n",
       "      <td>4.0</td>\n",
       "      <td>6.0</td>\n",
       "    </tr>\n",
       "    <tr>\n",
       "      <th>75%</th>\n",
       "      <td>22075.0</td>\n",
       "      <td>917.0</td>\n",
       "      <td>2015.0</td>\n",
       "      <td>1.888880e+05</td>\n",
       "      <td>4.0</td>\n",
       "      <td>12.0</td>\n",
       "    </tr>\n",
       "    <tr>\n",
       "      <th>max</th>\n",
       "      <td>26307500.0</td>\n",
       "      <td>11714.0</td>\n",
       "      <td>2020.0</td>\n",
       "      <td>2.147484e+09</td>\n",
       "      <td>16.0</td>\n",
       "      <td>16.0</td>\n",
       "    </tr>\n",
       "  </tbody>\n",
       "</table>\n",
       "</div>"
      ],
      "text/plain": [
       "            Price     Levy  Prod. year       Mileage  Cylinders  Airbags\n",
       "count     19237.0  19237.0     19237.0  1.923700e+04    19237.0  19237.0\n",
       "mean      18556.0    907.0      2011.0  1.532236e+06        5.0      7.0\n",
       "std      190581.0    386.0         6.0  4.840387e+07        1.0      4.0\n",
       "min           1.0     87.0      1939.0  0.000000e+00        1.0      0.0\n",
       "25%        5331.0    730.0      2009.0  7.013900e+04        4.0      4.0\n",
       "50%       13172.0    907.0      2012.0  1.260000e+05        4.0      6.0\n",
       "75%       22075.0    917.0      2015.0  1.888880e+05        4.0     12.0\n",
       "max    26307500.0  11714.0      2020.0  2.147484e+09       16.0     16.0"
      ]
     },
     "execution_count": 48,
     "metadata": {},
     "output_type": "execute_result"
    }
   ],
   "source": [
    "data.describe().round()"
   ]
  },
  {
   "cell_type": "code",
   "execution_count": 49,
   "id": "6828d41f-e3ca-4544-a1cc-363f92553d90",
   "metadata": {},
   "outputs": [
    {
     "data": {
      "image/png": "[encoded data removed]",
      "text/plain": [
       "<Figure size 640x480 with 1 Axes>"
      ]
     },
     "metadata": {},
     "output_type": "display_data"
    }
   ],
   "source": [
    "sns.histplot(data['Price'][data['Price'] < 100000])\n",
    "\n",
    "plt.title = 'Price'\n"
   ]
  },
  {
   "cell_type": "code",
   "execution_count": 50,
   "id": "688413d3-febe-488f-98bb-1e3ccc7cc157",
   "metadata": {},
   "outputs": [],
   "source": [
    "## Log transformation\n",
    "log_price = np.log1p(data['Price'])"
   ]
  },
  {
   "cell_type": "code",
   "execution_count": 51,
   "id": "1474c444-4f4b-4a92-b8c6-6b1aafbc532d",
   "metadata": {},
   "outputs": [
    {
     "data": {
      "text/plain": [
       "<Axes: xlabel='Price', ylabel='Count'>"
      ]
     },
     "execution_count": 51,
     "metadata": {},
     "output_type": "execute_result"
    },
    {
     "data": {
      "image/png": "[encoded data removed]",
      "text/plain": [
       "<Figure size 640x480 with 1 Axes>"
      ]
     },
     "metadata": {},
     "output_type": "display_data"
    }
   ],
   "source": [
    "sns.histplot(log_price)"
   ]
  },
  {
   "cell_type": "code",
   "execution_count": 52,
   "id": "0d7ac9d4-eeec-4931-9171-7c016ac02777",
   "metadata": {},
   "outputs": [
    {
     "data": {
      "text/plain": [
       "<matplotlib.collections.PathCollection at 0x22110422110>"
      ]
     },
     "execution_count": 52,
     "metadata": {},
     "output_type": "execute_result"
    },
    {
     "data": {
      "image/png": "[encoded data removed]",
      "text/plain": [
       "<Figure size 640x480 with 1 Axes>"
      ]
     },
     "metadata": {},
     "output_type": "display_data"
    }
   ],
   "source": [
    "## plot a scatter diage b/n KM and price\n",
    "plt.scatter(data['Levy'], data['Price'], c='blue')"
   ]
  },
  {
   "cell_type": "code",
   "execution_count": 53,
   "id": "d0474dad-333f-4107-8929-75130f7ccbf4",
   "metadata": {},
   "outputs": [
    {
     "ename": "TypeError",
     "evalue": "'str' object is not callable",
     "output_type": "error",
     "traceback": [
      "\u001b[1;31m---------------------------------------------------------------------------\u001b[0m",
      "\u001b[1;31mTypeError\u001b[0m                                 Traceback (most recent call last)",
      "Cell \u001b[1;32mIn[53], line 3\u001b[0m\n\u001b[0;32m      1\u001b[0m plt\u001b[38;5;241m.\u001b[39mhist(data[\u001b[38;5;124m'\u001b[39m\u001b[38;5;124mAirbags\u001b[39m\u001b[38;5;124m'\u001b[39m], bins\u001b[38;5;241m=\u001b[39m\u001b[38;5;241m10\u001b[39m)\n\u001b[1;32m----> 3\u001b[0m \u001b[43mplt\u001b[49m\u001b[38;5;241;43m.\u001b[39;49m\u001b[43mtitle\u001b[49m\u001b[43m(\u001b[49m\u001b[38;5;124;43m'\u001b[39;49m\u001b[38;5;124;43mHistogram Distribution of Kilometer\u001b[39;49m\u001b[38;5;124;43m'\u001b[39;49m\u001b[43m)\u001b[49m\n\u001b[0;32m      4\u001b[0m plt\u001b[38;5;241m.\u001b[39mxlabel(\u001b[38;5;124m'\u001b[39m\u001b[38;5;124mKilometer\u001b[39m\u001b[38;5;124m'\u001b[39m)\n\u001b[0;32m      5\u001b[0m plt\u001b[38;5;241m.\u001b[39mylabel(\u001b[38;5;124m'\u001b[39m\u001b[38;5;124mFrequency\u001b[39m\u001b[38;5;124m'\u001b[39m)\n",
      "\u001b[1;31mTypeError\u001b[0m: 'str' object is not callable"
     ]
    },
    {
     "data": {
      "image/png": "[encoded data removed]",
      "text/plain": [
       "<Figure size 640x480 with 1 Axes>"
      ]
     },
     "metadata": {},
     "output_type": "display_data"
    }
   ],
   "source": [
    "plt.hist(data['Airbags'], bins=10)\n",
    "\n",
    "plt.title('Histogram Distribution of Kilometer')\n",
    "plt.xlabel('Kilometer')\n",
    "plt.ylabel('Frequency')\n",
    "\n",
    "plt.show()"
   ]
  },
  {
   "cell_type": "code",
   "execution_count": null,
   "id": "3c126588-0802-40bc-8df2-3b66f275cb8c",
   "metadata": {},
   "outputs": [],
   "source": [
    "plt.hist(data['Price'])\n",
    "\n",
    "plt.show()"
   ]
  },
  {
   "cell_type": "code",
   "execution_count": null,
   "id": "d6b351fc-20a3-44fd-a7d7-33e73617e36c",
   "metadata": {},
   "outputs": [],
   "source": [
    "## scatter plot b/n Age and Price\n",
    "sns.scatterplot(data=data, x='Airbags', y='Price', hue='Mileage')\n",
    "\n",
    "plt.title('Correlation b/n KM and Price of car')\n",
    "plt.xlabel('Airbags')\n",
    "plt.ylabel('Price')\n",
    "\n",
    "plt.show()\n",
    "\n"
   ]
  },
  {
   "cell_type": "markdown",
   "id": "0b31fae2-d9f7-48a5-b672-4c0e7ce932df",
   "metadata": {},
   "source": [
    "## Building A Validation Framework / Splitting Dataset\n",
    "\n",
    ". Training set 60%\n",
    "\n",
    ". Validation dataset 20%\n",
    "\n",
    ". Test dataset 20%"
   ]
  },
  {
   "cell_type": "code",
   "execution_count": null,
   "id": "278e7180-8540-4498-a336-165a6514cb0d",
   "metadata": {},
   "outputs": [],
   "source": [
    "df_train_full, df_test = train_test_split(df, test_size=0.2, random_state=11)\n",
    "\n",
    "df_train, df_valid = train_test_split(df_train_full, test_size=0.25, random_state=11)\n",
    "\n",
    "print(f'Train set {len(df_train)}')\n",
    "print(f'Valid set {len(df_valid)}')\n",
    "print(f'Test set {len(df_test)}')"
   ]
  },
  {
   "cell_type": "code",
   "execution_count": null,
   "id": "5e6e719c-da1c-44af-8113-c065f9427adf",
   "metadata": {},
   "outputs": [],
   "source": [
    "## selecting target column and converting it to a vector format\n",
    "y_train = df_train['Price'].values\n",
    "y_valid = df_valid['Price'].values\n",
    "y_test = df_test['Price'].values"
   ]
  },
  {
   "cell_type": "code",
   "execution_count": null,
   "id": "143c56d5-3970-4f4e-91cb-d5198d317439",
   "metadata": {},
   "outputs": [],
   "source": [
    "del df_train['Price']\n",
    "del df_valid['Price']\n",
    "del df_test['Price']"
   ]
  },
  {
   "cell_type": "markdown",
   "id": "d0e421ba-cd06-4b14-a90e-742e60dfdb0f",
   "metadata": {},
   "source": [
    "## Train A Baseline Regression Model\n",
    "- Selecting baseline features\n",
    "\n",
    "- Train a regression model"
   ]
  },
  {
   "cell_type": "code",
   "execution_count": null,
   "id": "c2067ffb-529c-4a8d-a743-db5ab3c8840e",
   "metadata": {},
   "outputs": [],
   "source": [
    "baseline_features = ['Levy', 'Prod. year', 'Cylinders', 'Airbags']\n",
    "df_train_bl = df_train[baseline_features]"
   ]
  },
  {
   "cell_type": "code",
   "execution_count": null,
   "id": "d5c5d617-332e-44a5-9010-b72f479bf646",
   "metadata": {},
   "outputs": [],
   "source": [
    "X_train_bl = df_train_bl.values\n",
    "X_train_bl"
   ]
  },
  {
   "cell_type": "code",
   "execution_count": 54,
   "id": "87f909c2-4b7c-46a8-a073-11e202f5b595",
   "metadata": {},
   "outputs": [
    {
     "ename": "NameError",
     "evalue": "name 'X_train_bl' is not defined",
     "output_type": "error",
     "traceback": [
      "\u001b[1;31m---------------------------------------------------------------------------\u001b[0m",
      "\u001b[1;31mNameError\u001b[0m                                 Traceback (most recent call last)",
      "Cell \u001b[1;32mIn[54], line 3\u001b[0m\n\u001b[0;32m      1\u001b[0m \u001b[38;5;66;03m## lets train model\u001b[39;00m\n\u001b[0;32m      2\u001b[0m model \u001b[38;5;241m=\u001b[39m LinearRegression()\n\u001b[1;32m----> 3\u001b[0m model\u001b[38;5;241m.\u001b[39mfit(\u001b[43mX_train_bl\u001b[49m, y_train)\n",
      "\u001b[1;31mNameError\u001b[0m: name 'X_train_bl' is not defined"
     ]
    }
   ],
   "source": [
    "## lets train model\n",
    "model = LinearRegression()\n",
    "model.fit(X_train_bl, y_train)"
   ]
  },
  {
   "cell_type": "code",
   "execution_count": null,
   "id": "370a9953-57d3-4fdb-ab44-cc97ca72aebd",
   "metadata": {},
   "outputs": [],
   "source": []
  }
 ],
 "metadata": {
  "kernelspec": {
   "display_name": "Python 3 (ipykernel)",
   "language": "python",
   "name": "python3"
  },
  "language_info": {
   "codemirror_mode": {
    "name": "ipython",
    "version": 3
   },
   "file_extension": ".py",
   "mimetype": "text/x-python",
   "name": "python",
   "nbconvert_exporter": "python",
   "pygments_lexer": "ipython3",
   "version": "3.11.3"
  }
 },
 "nbformat": 4,
 "nbformat_minor": 5
}
